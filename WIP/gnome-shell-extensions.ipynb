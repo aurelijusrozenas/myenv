{
 "metadata": {
  "name": "",
  "signature": "sha256:79cf1371e7005c1cb7bcb7a030c59b3b03619df0c4c03ddf2a55848a10960983"
 },
 "nbformat": 3,
 "nbformat_minor": 0,
 "worksheets": [
  {
   "cells": [
    {
     "cell_type": "code",
     "collapsed": false,
     "input": [
      "# http://bernaerts.dyndns.org/linux/76-gnome/283-gnome-shell-install-extension-command-line-script\n",
      "# https://github.com/GNOME/gnome-shell/blob/master/browser-plugin/browser-plugin.c"
     ],
     "language": "python",
     "metadata": {},
     "outputs": [],
     "prompt_number": 1
    },
    {
     "cell_type": "code",
     "collapsed": false,
     "input": [
      "import dbus, pprint\n",
      "bus = dbus.SessionBus()\n",
      "proxy = bus.get_object(\"org.gnome.Shell\", \"/org/gnome/Shell\")\n",
      "iface = dbus.Interface(proxy, \"org.gnome.Shell.Extensions\")"
     ],
     "language": "python",
     "metadata": {},
     "outputs": [
      {
       "ename": "DBusException",
       "evalue": "org.freedesktop.DBus.Error.ServiceUnknown: The name org.gnome.Shell was not provided by any .service files",
       "output_type": "pyerr",
       "traceback": [
        "\u001b[0;31m---------------------------------------------------------------------------\u001b[0m\n\u001b[0;31mDBusException\u001b[0m                             Traceback (most recent call last)",
        "\u001b[0;32m<ipython-input-2-1fb61c0008bd>\u001b[0m in \u001b[0;36m<module>\u001b[0;34m()\u001b[0m\n\u001b[1;32m      1\u001b[0m \u001b[0;32mimport\u001b[0m \u001b[0mdbus\u001b[0m\u001b[0;34m,\u001b[0m \u001b[0mpprint\u001b[0m\u001b[0;34m\u001b[0m\u001b[0m\n\u001b[1;32m      2\u001b[0m \u001b[0mbus\u001b[0m \u001b[0;34m=\u001b[0m \u001b[0mdbus\u001b[0m\u001b[0;34m.\u001b[0m\u001b[0mSessionBus\u001b[0m\u001b[0;34m(\u001b[0m\u001b[0;34m)\u001b[0m\u001b[0;34m\u001b[0m\u001b[0m\n\u001b[0;32m----> 3\u001b[0;31m \u001b[0mproxy\u001b[0m \u001b[0;34m=\u001b[0m \u001b[0mbus\u001b[0m\u001b[0;34m.\u001b[0m\u001b[0mget_object\u001b[0m\u001b[0;34m(\u001b[0m\u001b[0;34m\"org.gnome.Shell\"\u001b[0m\u001b[0;34m,\u001b[0m \u001b[0;34m\"/org/gnome/Shell\"\u001b[0m\u001b[0;34m)\u001b[0m\u001b[0;34m\u001b[0m\u001b[0m\n\u001b[0m\u001b[1;32m      4\u001b[0m \u001b[0miface\u001b[0m \u001b[0;34m=\u001b[0m \u001b[0mdbus\u001b[0m\u001b[0;34m.\u001b[0m\u001b[0mInterface\u001b[0m\u001b[0;34m(\u001b[0m\u001b[0mproxy\u001b[0m\u001b[0;34m,\u001b[0m \u001b[0;34m\"org.gnome.Shell.Extensions\"\u001b[0m\u001b[0;34m)\u001b[0m\u001b[0;34m\u001b[0m\u001b[0m\n",
        "\u001b[0;32m/usr/lib/python3/dist-packages/dbus/bus.py\u001b[0m in \u001b[0;36mget_object\u001b[0;34m(self, bus_name, object_path, introspect, follow_name_owner_changes, **kwargs)\u001b[0m\n\u001b[1;32m    239\u001b[0m         return self.ProxyObjectClass(self, bus_name, object_path,\n\u001b[1;32m    240\u001b[0m                                      \u001b[0mintrospect\u001b[0m\u001b[0;34m=\u001b[0m\u001b[0mintrospect\u001b[0m\u001b[0;34m,\u001b[0m\u001b[0;34m\u001b[0m\u001b[0m\n\u001b[0;32m--> 241\u001b[0;31m                                      follow_name_owner_changes=follow_name_owner_changes)\n\u001b[0m\u001b[1;32m    242\u001b[0m \u001b[0;34m\u001b[0m\u001b[0m\n\u001b[1;32m    243\u001b[0m     \u001b[0;32mdef\u001b[0m \u001b[0mget_unix_user\u001b[0m\u001b[0;34m(\u001b[0m\u001b[0mself\u001b[0m\u001b[0;34m,\u001b[0m \u001b[0mbus_name\u001b[0m\u001b[0;34m)\u001b[0m\u001b[0;34m:\u001b[0m\u001b[0;34m\u001b[0m\u001b[0m\n",
        "\u001b[0;32m/usr/lib/python3/dist-packages/dbus/proxies.py\u001b[0m in \u001b[0;36m__init__\u001b[0;34m(self, conn, bus_name, object_path, introspect, follow_name_owner_changes, **kwargs)\u001b[0m\n\u001b[1;32m    246\u001b[0m \u001b[0;34m\u001b[0m\u001b[0m\n\u001b[1;32m    247\u001b[0m         \u001b[0;32mif\u001b[0m \u001b[0;32mnot\u001b[0m \u001b[0mfollow_name_owner_changes\u001b[0m\u001b[0;34m:\u001b[0m\u001b[0;34m\u001b[0m\u001b[0m\n\u001b[0;32m--> 248\u001b[0;31m             \u001b[0mself\u001b[0m\u001b[0;34m.\u001b[0m\u001b[0m_named_service\u001b[0m \u001b[0;34m=\u001b[0m \u001b[0mconn\u001b[0m\u001b[0;34m.\u001b[0m\u001b[0mactivate_name_owner\u001b[0m\u001b[0;34m(\u001b[0m\u001b[0mbus_name\u001b[0m\u001b[0;34m)\u001b[0m\u001b[0;34m\u001b[0m\u001b[0m\n\u001b[0m\u001b[1;32m    249\u001b[0m \u001b[0;34m\u001b[0m\u001b[0m\n\u001b[1;32m    250\u001b[0m         \u001b[0;31m#PendingCall object for Introspect call\u001b[0m\u001b[0;34m\u001b[0m\u001b[0;34m\u001b[0m\u001b[0m\n",
        "\u001b[0;32m/usr/lib/python3/dist-packages/dbus/bus.py\u001b[0m in \u001b[0;36mactivate_name_owner\u001b[0;34m(self, bus_name)\u001b[0m\n\u001b[1;32m    178\u001b[0m                     \u001b[0;32mraise\u001b[0m\u001b[0;34m\u001b[0m\u001b[0m\n\u001b[1;32m    179\u001b[0m                 \u001b[0;31m# else it doesn't exist: try to start it\u001b[0m\u001b[0;34m\u001b[0m\u001b[0;34m\u001b[0m\u001b[0m\n\u001b[0;32m--> 180\u001b[0;31m                 \u001b[0mself\u001b[0m\u001b[0;34m.\u001b[0m\u001b[0mstart_service_by_name\u001b[0m\u001b[0;34m(\u001b[0m\u001b[0mbus_name\u001b[0m\u001b[0;34m)\u001b[0m\u001b[0;34m\u001b[0m\u001b[0m\n\u001b[0m\u001b[1;32m    181\u001b[0m                 \u001b[0;32mreturn\u001b[0m \u001b[0mself\u001b[0m\u001b[0;34m.\u001b[0m\u001b[0mget_name_owner\u001b[0m\u001b[0;34m(\u001b[0m\u001b[0mbus_name\u001b[0m\u001b[0;34m)\u001b[0m\u001b[0;34m\u001b[0m\u001b[0m\n\u001b[1;32m    182\u001b[0m         \u001b[0;32melse\u001b[0m\u001b[0;34m:\u001b[0m\u001b[0;34m\u001b[0m\u001b[0m\n",
        "\u001b[0;32m/usr/lib/python3/dist-packages/dbus/bus.py\u001b[0m in \u001b[0;36mstart_service_by_name\u001b[0;34m(self, bus_name, flags)\u001b[0m\n\u001b[1;32m    276\u001b[0m                                          \u001b[0mBUS_DAEMON_IFACE\u001b[0m\u001b[0;34m,\u001b[0m\u001b[0;34m\u001b[0m\u001b[0m\n\u001b[1;32m    277\u001b[0m                                          \u001b[0;34m'StartServiceByName'\u001b[0m\u001b[0;34m,\u001b[0m\u001b[0;34m\u001b[0m\u001b[0m\n\u001b[0;32m--> 278\u001b[0;31m                                          'su', (bus_name, flags)))\n\u001b[0m\u001b[1;32m    279\u001b[0m \u001b[0;34m\u001b[0m\u001b[0m\n\u001b[1;32m    280\u001b[0m     \u001b[0;31m# XXX: it might be nice to signal IN_QUEUE, EXISTS by exception,\u001b[0m\u001b[0;34m\u001b[0m\u001b[0;34m\u001b[0m\u001b[0m\n",
        "\u001b[0;32m/usr/lib/python3/dist-packages/dbus/connection.py\u001b[0m in \u001b[0;36mcall_blocking\u001b[0;34m(self, bus_name, object_path, dbus_interface, method, signature, args, timeout, byte_arrays, **kwargs)\u001b[0m\n\u001b[1;32m    649\u001b[0m         \u001b[0;31m# make a blocking call\u001b[0m\u001b[0;34m\u001b[0m\u001b[0;34m\u001b[0m\u001b[0m\n\u001b[1;32m    650\u001b[0m         reply_message = self.send_message_with_reply_and_block(\n\u001b[0;32m--> 651\u001b[0;31m             message, timeout)\n\u001b[0m\u001b[1;32m    652\u001b[0m         \u001b[0margs_list\u001b[0m \u001b[0;34m=\u001b[0m \u001b[0mreply_message\u001b[0m\u001b[0;34m.\u001b[0m\u001b[0mget_args_list\u001b[0m\u001b[0;34m(\u001b[0m\u001b[0;34m**\u001b[0m\u001b[0mget_args_opts\u001b[0m\u001b[0;34m)\u001b[0m\u001b[0;34m\u001b[0m\u001b[0m\n\u001b[1;32m    653\u001b[0m         \u001b[0;32mif\u001b[0m \u001b[0mlen\u001b[0m\u001b[0;34m(\u001b[0m\u001b[0margs_list\u001b[0m\u001b[0;34m)\u001b[0m \u001b[0;34m==\u001b[0m \u001b[0;36m0\u001b[0m\u001b[0;34m:\u001b[0m\u001b[0;34m\u001b[0m\u001b[0m\n",
        "\u001b[0;31mDBusException\u001b[0m: org.freedesktop.DBus.Error.ServiceUnknown: The name org.gnome.Shell was not provided by any .service files"
       ]
      }
     ],
     "prompt_number": 2
    },
    {
     "cell_type": "code",
     "collapsed": false,
     "input": [
      "installed = {str(e) for e in iface.ListExtensions()}\n",
      "print(\"Already installed:\", *sorted(installed), sep='\\n  ')"
     ],
     "language": "python",
     "metadata": {},
     "outputs": [
      {
       "output_type": "stream",
       "stream": "stdout",
       "text": [
        "Already installed:\n",
        "  alternate-tab@gnome-shell-extensions.gcampax.github.com\n",
        "  apps-menu@gnome-shell-extensions.gcampax.github.com\n",
        "  auto-move-windows@gnome-shell-extensions.gcampax.github.com\n",
        "  drive-menu@gnome-shell-extensions.gcampax.github.com\n",
        "  launch-new-instance@gnome-shell-extensions.gcampax.github.com\n",
        "  native-window-placement@gnome-shell-extensions.gcampax.github.com\n",
        "  places-menu@gnome-shell-extensions.gcampax.github.com\n",
        "  systemMonitor@gnome-shell-extensions.gcampax.github.com\n",
        "  user-theme@gnome-shell-extensions.gcampax.github.com\n",
        "  window-list@gnome-shell-extensions.gcampax.github.com\n",
        "  windowsNavigator@gnome-shell-extensions.gcampax.github.com\n",
        "  workspace-indicator@gnome-shell-extensions.gcampax.github.com\n"
       ]
      }
     ],
     "prompt_number": 39
    },
    {
     "cell_type": "code",
     "collapsed": true,
     "input": [
      "pprint.pprint(iface.GetExtensionInfo(ext))"
     ],
     "language": "python",
     "metadata": {},
     "outputs": [
      {
       "output_type": "stream",
       "stream": "stdout",
       "text": [
        "{dbus.String('description'): dbus.String('Display a window list at the bottom of the screen.\\nThis extension is part of Classic Mode and is officially supported by GNOME. Please do not report bugs using the form below, use GNOME Bugzilla instead.', variant_level=1),\n",
        " dbus.String('error'): dbus.String('', variant_level=1),\n",
        " dbus.String('extension-id'): dbus.String('window-list', variant_level=1),\n",
        " dbus.String('gettext-domain'): dbus.String('gnome-shell-extensions', variant_level=1),\n",
        " dbus.String('hasPrefs'): dbus.Boolean(True, variant_level=1),\n",
        " dbus.String('name'): dbus.String('Window List', variant_level=1),\n",
        " dbus.String('path'): dbus.String('/usr/share/gnome-shell/extensions/window-list@gnome-shell-extensions.gcampax.github.com', variant_level=1),\n",
        " dbus.String('settings-schema'): dbus.String('org.gnome.shell.extensions.window-list', variant_level=1),\n",
        " dbus.String('state'): dbus.Double(1.0, variant_level=1),\n",
        " dbus.String('type'): dbus.Double(1.0, variant_level=1),\n",
        " dbus.String('url'): dbus.String('http://git.gnome.org/gnome-shell-extensions', variant_level=1),\n",
        " dbus.String('uuid'): dbus.String('window-list@gnome-shell-extensions.gcampax.github.com', variant_level=1)}\n"
       ]
      }
     ],
     "prompt_number": 21
    },
    {
     "cell_type": "code",
     "collapsed": true,
     "input": [
      "introspection_interface = dbus.Interface(proxy, dbus.INTROSPECTABLE_IFACE)\n",
      "print(introspection_interface.Introspect())"
     ],
     "language": "python",
     "metadata": {},
     "outputs": [
      {
       "output_type": "stream",
       "stream": "stdout",
       "text": [
        "<!DOCTYPE node PUBLIC \"-//freedesktop//DTD D-BUS Object Introspection 1.0//EN\"\n",
        "                      \"http://www.freedesktop.org/standards/dbus/1.0/introspect.dtd\">\n",
        "<!-- GDBus 2.40.0 -->\n",
        "<node>\n",
        "  <interface name=\"org.freedesktop.DBus.Properties\">\n",
        "    <method name=\"Get\">\n",
        "      <arg type=\"s\" name=\"interface_name\" direction=\"in\"/>\n",
        "      <arg type=\"s\" name=\"property_name\" direction=\"in\"/>\n",
        "      <arg type=\"v\" name=\"value\" direction=\"out\"/>\n",
        "    </method>\n",
        "    <method name=\"GetAll\">\n",
        "      <arg type=\"s\" name=\"interface_name\" direction=\"in\"/>\n",
        "      <arg type=\"a{sv}\" name=\"properties\" direction=\"out\"/>\n",
        "    </method>\n",
        "    <method name=\"Set\">\n",
        "      <arg type=\"s\" name=\"interface_name\" direction=\"in\"/>\n",
        "      <arg type=\"s\" name=\"property_name\" direction=\"in\"/>\n",
        "      <arg type=\"v\" name=\"value\" direction=\"in\"/>\n",
        "    </method>\n",
        "    <signal name=\"PropertiesChanged\">\n",
        "      <arg type=\"s\" name=\"interface_name\"/>\n",
        "      <arg type=\"a{sv}\" name=\"changed_properties\"/>\n",
        "      <arg type=\"as\" name=\"invalidated_properties\"/>\n",
        "    </signal>\n",
        "  </interface>\n",
        "  <interface name=\"org.freedesktop.DBus.Introspectable\">\n",
        "    <method name=\"Introspect\">\n",
        "      <arg type=\"s\" name=\"xml_data\" direction=\"out\"/>\n",
        "    </method>\n",
        "  </interface>\n",
        "  <interface name=\"org.freedesktop.DBus.Peer\">\n",
        "    <method name=\"Ping\"/>\n",
        "    <method name=\"GetMachineId\">\n",
        "      <arg type=\"s\" name=\"machine_uuid\" direction=\"out\"/>\n",
        "    </method>\n",
        "  </interface>\n",
        "  <interface name=\"org.gnome.Shell\">\n",
        "    <method name=\"Eval\">\n",
        "      <arg type=\"s\" name=\"script\" direction=\"in\">\n",
        "      </arg>\n",
        "      <arg type=\"b\" name=\"success\" direction=\"out\">\n",
        "      </arg>\n",
        "      <arg type=\"s\" name=\"result\" direction=\"out\">\n",
        "      </arg>\n",
        "    </method>\n",
        "    <method name=\"FocusSearch\">\n",
        "    </method>\n",
        "    <method name=\"ShowOSD\">\n",
        "      <arg type=\"a{sv}\" name=\"params\" direction=\"in\">\n",
        "      </arg>\n",
        "    </method>\n",
        "    <method name=\"FocusApp\">\n",
        "      <arg type=\"s\" name=\"id\" direction=\"in\">\n",
        "      </arg>\n",
        "    </method>\n",
        "    <method name=\"ShowApplications\">\n",
        "    </method>\n",
        "    <method name=\"GrabAccelerator\">\n",
        "      <arg type=\"s\" name=\"accelerator\" direction=\"in\">\n",
        "      </arg>\n",
        "      <arg type=\"u\" name=\"flags\" direction=\"in\">\n",
        "      </arg>\n",
        "      <arg type=\"u\" name=\"action\" direction=\"out\">\n",
        "      </arg>\n",
        "    </method>\n",
        "    <method name=\"GrabAccelerators\">\n",
        "      <arg type=\"a(su)\" name=\"accelerators\" direction=\"in\">\n",
        "      </arg>\n",
        "      <arg type=\"au\" name=\"actions\" direction=\"out\">\n",
        "      </arg>\n",
        "    </method>\n",
        "    <method name=\"UngrabAccelerator\">\n",
        "      <arg type=\"u\" name=\"action\" direction=\"in\">\n",
        "      </arg>\n",
        "      <arg type=\"b\" name=\"success\" direction=\"out\">\n",
        "      </arg>\n",
        "    </method>\n",
        "    <signal name=\"AcceleratorActivated\">\n",
        "      <arg type=\"u\" name=\"action\">\n",
        "      </arg>\n",
        "      <arg type=\"u\" name=\"deviceid\">\n",
        "      </arg>\n",
        "    </signal>\n",
        "    <property type=\"s\" name=\"Mode\" access=\"read\">\n",
        "    </property>\n",
        "    <property type=\"b\" name=\"OverviewActive\" access=\"readwrite\">\n",
        "    </property>\n",
        "    <property type=\"s\" name=\"ShellVersion\" access=\"read\">\n",
        "    </property>\n",
        "  </interface>\n",
        "  <interface name=\"org.gnome.Shell.Extensions\">\n",
        "    <method name=\"ListExtensions\">\n",
        "      <arg type=\"a{sa{sv}}\" name=\"extensions\" direction=\"out\">\n",
        "      </arg>\n",
        "    </method>\n",
        "    <method name=\"GetExtensionInfo\">\n",
        "      <arg type=\"s\" name=\"extension\" direction=\"in\">\n",
        "      </arg>\n",
        "      <arg type=\"a{sv}\" name=\"info\" direction=\"out\">\n",
        "      </arg>\n",
        "    </method>\n",
        "    <method name=\"GetExtensionErrors\">\n",
        "      <arg type=\"s\" name=\"extension\" direction=\"in\">\n",
        "      </arg>\n",
        "      <arg type=\"as\" name=\"errors\" direction=\"out\">\n",
        "      </arg>\n",
        "    </method>\n",
        "    <method name=\"InstallRemoteExtension\">\n",
        "      <arg type=\"s\" name=\"uuid\" direction=\"in\">\n",
        "      </arg>\n",
        "      <arg type=\"s\" name=\"result\" direction=\"out\">\n",
        "      </arg>\n",
        "    </method>\n",
        "    <method name=\"UninstallExtension\">\n",
        "      <arg type=\"s\" name=\"uuid\" direction=\"in\">\n",
        "      </arg>\n",
        "      <arg type=\"b\" name=\"success\" direction=\"out\">\n",
        "      </arg>\n",
        "    </method>\n",
        "    <method name=\"LaunchExtensionPrefs\">\n",
        "      <arg type=\"s\" name=\"uuid\" direction=\"in\">\n",
        "      </arg>\n",
        "    </method>\n",
        "    <method name=\"ReloadExtension\">\n",
        "      <arg type=\"s\" name=\"uuid\" direction=\"in\">\n",
        "      </arg>\n",
        "    </method>\n",
        "    <method name=\"CheckForUpdates\">\n",
        "    </method>\n",
        "    <signal name=\"ExtensionStatusChanged\">\n",
        "      <arg type=\"s\" name=\"uuid\">\n",
        "      </arg>\n",
        "      <arg type=\"i\" name=\"state\">\n",
        "      </arg>\n",
        "      <arg type=\"s\" name=\"error\">\n",
        "      </arg>\n",
        "    </signal>\n",
        "    <property type=\"s\" name=\"ShellVersion\" access=\"read\">\n",
        "    </property>\n",
        "  </interface>\n",
        "  <node name=\"Screencast\"/>\n",
        "  <node name=\"Screenshot\"/>\n",
        "</node>\n",
        "\n"
       ]
      }
     ],
     "prompt_number": 22
    },
    {
     "cell_type": "code",
     "collapsed": false,
     "input": [
      "iface.CheckForUpdates()"
     ],
     "language": "python",
     "metadata": {},
     "outputs": [],
     "prompt_number": 23
    },
    {
     "cell_type": "code",
     "collapsed": false,
     "input": [
      "from gi.repository import Gio, GLib\n",
      "gsettings = Gio.Settings.new('org.gnome.shell')\n",
      "enabled = set(gsettings.get_strv('enabled-extensions'))\n",
      "print(\"Already enabled:\", *sorted(enabled), sep='\\n  ')\n",
      "\n",
      "def enable(extensions):\n",
      "    \"\"\"Make sure all `extensions` are enabled.  Must be already installed.\"\"\"\n",
      "    print(\"Enabling:\", *sorted(extensions - set(enabled)), sep='\\n  ')\n",
      "    gsettings.set_strv('enabled-extensions', sorted(set(enabled) | extensions))"
     ],
     "language": "python",
     "metadata": {},
     "outputs": [
      {
       "output_type": "stream",
       "stream": "stdout",
       "text": [
        "Already enabled:\n",
        "  alternate-tab@gnome-shell-extensions.gcampax.github.com\n",
        "  apps-menu@gnome-shell-extensions.gcampax.github.com\n",
        "  launch-new-instance@gnome-shell-extensions.gcampax.github.com\n",
        "  native-window-placement@gnome-shell-extensions.gcampax.github.com\n",
        "  places-menu@gnome-shell-extensions.gcampax.github.com\n",
        "  systemMonitor@gnome-shell-extensions.gcampax.github.com\n",
        "  window-list@gnome-shell-extensions.gcampax.github.com\n",
        "  windowsNavigator@gnome-shell-extensions.gcampax.github.com\n",
        "  workspace-indicator@gnome-shell-extensions.gcampax.github.com\n"
       ]
      }
     ],
     "prompt_number": 43
    },
    {
     "cell_type": "code",
     "collapsed": false,
     "input": [
      "desired = {\n",
      " 'alternate-tab@gnome-shell-extensions.gcampax.github.com',\n",
      " 'apps-menu@gnome-shell-extensions.gcampax.github.com',\n",
      " 'launch-new-instance@gnome-shell-extensions.gcampax.github.com',\n",
      " 'native-window-placement@gnome-shell-extensions.gcampax.github.com',\n",
      " 'places-menu@gnome-shell-extensions.gcampax.github.com',\n",
      " 'systemMonitor@gnome-shell-extensions.gcampax.github.com',\n",
      " 'window-list@gnome-shell-extensions.gcampax.github.com',\n",
      " 'windowsNavigator@gnome-shell-extensions.gcampax.github.com',\n",
      " 'workspace-indicator@gnome-shell-extensions.gcampax.github.com'\n",
      "}"
     ],
     "language": "python",
     "metadata": {},
     "outputs": [],
     "prompt_number": 44
    },
    {
     "cell_type": "code",
     "collapsed": false,
     "input": [
      "enable(desired & installed)"
     ],
     "language": "python",
     "metadata": {},
     "outputs": [
      {
       "output_type": "stream",
       "stream": "stdout",
       "text": [
        "Enabling:\n"
       ]
      }
     ],
     "prompt_number": 45
    },
    {
     "cell_type": "code",
     "collapsed": false,
     "input": [],
     "language": "python",
     "metadata": {},
     "outputs": []
    }
   ],
   "metadata": {}
  }
 ]
}